{
 "cells": [
  {
   "cell_type": "code",
   "execution_count": 23,
   "metadata": {},
   "outputs": [],
   "source": [
    "import csv"
   ]
  },
  {
   "cell_type": "code",
   "execution_count": 25,
   "metadata": {},
   "outputs": [],
   "source": [
    "with open('RussianPietists.txt','r') as f:\n",
    "    doc = f.read()\n",
    "    \n",
    "chuncks = doc.split(\"\\n\\n\") #split the file when there is a blank line"
   ]
  },
  {
   "cell_type": "code",
   "execution_count": 26,
   "metadata": {},
   "outputs": [],
   "source": [
    "hashtags = ['#66','#40','#41','#25','#62']"
   ]
  },
  {
   "cell_type": "code",
   "execution_count": 38,
   "metadata": {},
   "outputs": [],
   "source": [
    "counter = 0 # chunck of text id\n",
    "dict_counter = {}\n",
    "for chunck in chuncks:\n",
    "    lines = chunck.split('\\n')\n",
    "    line_list = []\n",
    "    for tag in hashtags: \n",
    "        text = 0\n",
    "        for line in lines: # for each line in the chunk\n",
    "            if line.startswith(tag): # get the line that start with the hashtag of interest\n",
    "                text = line[4:] # retrieve line starting from fourth position, to get rid o the hashtag info\n",
    "                line_list.append(text) # add info to the list of results\n",
    "        if text: # if the hashtag is there, fine, the script continues\n",
    "            continue\n",
    "        else: # otherwise it appends 'unknown' to the list of results\n",
    "            line_list.append('unknown')\n",
    "        \n",
    "    dict_counter[counter] = line_list # assign the list of results to the chunck id\n",
    "    counter += 1\n",
    "    \n",
    "#print(dict_counter)"
   ]
  },
  {
   "cell_type": "code",
   "execution_count": 39,
   "metadata": {},
   "outputs": [],
   "source": [
    "with open('RussianPietists.csv','w') as g:\n",
    "    writer = csv.writer(g)\n",
    "    writer.writerow(hashtags)\n",
    "    content = dict_counter.values()\n",
    "    for row in content:\n",
    "        writer.writerow(row)\n",
    "        "
   ]
  },
  {
   "cell_type": "code",
   "execution_count": null,
   "metadata": {},
   "outputs": [],
   "source": []
  }
 ],
 "metadata": {
  "kernelspec": {
   "display_name": "Python 3",
   "language": "python",
   "name": "python3"
  },
  "language_info": {
   "codemirror_mode": {
    "name": "ipython",
    "version": 3
   },
   "file_extension": ".py",
   "mimetype": "text/x-python",
   "name": "python",
   "nbconvert_exporter": "python",
   "pygments_lexer": "ipython3",
   "version": "3.7.3"
  }
 },
 "nbformat": 4,
 "nbformat_minor": 2
}
