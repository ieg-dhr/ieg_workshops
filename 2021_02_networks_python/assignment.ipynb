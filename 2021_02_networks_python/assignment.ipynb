{
 "cells": [
  {
   "cell_type": "markdown",
   "metadata": {},
   "source": [
    "### Here are  exercises to check your understanding of the material"
   ]
  },
  {
   "cell_type": "markdown",
   "metadata": {},
   "source": [
    "#### 1. Slicing \n",
    "##### List slicing\n",
    "Shorten a list in such a way, that only elements from \"Antarctis\" to \"North America\" are printed \n",
    "\n",
    "Solution:\n",
    "```\n",
    "[\"Antarctis\", \"Asia\", \"Australia and Oceania\", \"Europe\", \"North America\"]\n",
    "```"
   ]
  },
  {
   "cell_type": "code",
   "execution_count": 2,
   "metadata": {},
   "outputs": [],
   "source": [
    "continents = [\"Africa\", \"Antarctis\", \"Asia\", \"Australia and Oceania\", \"Europe\", \"North America\", \"South America\"]\n",
    "# your code"
   ]
  },
  {
   "cell_type": "markdown",
   "metadata": {},
   "source": [
    "##### String slicing\n",
    "print only the first 6 letters of the sentence.\n",
    "\n",
    "Should look like:\n",
    "\n",
    "```\n",
    "I am\n",
    "```"
   ]
  },
  {
   "cell_type": "code",
   "execution_count": 1,
   "metadata": {},
   "outputs": [],
   "source": [
    "sentence= \"i am a sentence\"\n",
    "# your code"
   ]
  },
  {
   "cell_type": "markdown",
   "metadata": {},
   "source": [
    "#### 2. List comprehensions\n",
    "#####  a) Make a new list \"y\" in which each element is a multiplication of an element in the list \"x\"\n",
    "\n",
    "Output should look like this:\n",
    "\n",
    "```\n",
    "x= [1,2,3,4,5,6,7]\n",
    "y= [1,4,9,16,25,36,49]\n",
    "```"
   ]
  },
  {
   "cell_type": "code",
   "execution_count": 3,
   "metadata": {},
   "outputs": [],
   "source": [
    "x= [1,2,3,4,5,6,7]\n",
    "# your code"
   ]
  },
  {
   "cell_type": "markdown",
   "metadata": {},
   "source": [
    "##### b) Count the letters in a string list\n",
    "Count the letters of the elements (names) in the list \"students\".\n",
    "\n",
    "Output should look like this:\n",
    "\n",
    "```\n",
    "[3,6,4,4]\n",
    "```"
   ]
  },
  {
   "cell_type": "code",
   "execution_count": 3,
   "metadata": {},
   "outputs": [],
   "source": [
    "students= [\"Max\", \"Steven\", \"Anna\", \"John\"]\n",
    "# your code "
   ]
  },
  {
   "cell_type": "markdown",
   "metadata": {},
   "source": [
    "#### 3. Loops\n",
    "#### a) while -loop\n",
    "Make the programm to squares the numbers from 3 to 10 (using a while loop) \n",
    " Should look like this: \n",
    " \n",
    "```\n",
    "9\n",
    "16\n",
    "25\n",
    "36\n",
    "49\n",
    "64\n",
    "81\n",
    "100\n",
    "\n",
    "```"
   ]
  },
  {
   "cell_type": "code",
   "execution_count": 10,
   "metadata": {},
   "outputs": [],
   "source": [
    "i= 3\n",
    "# while\n",
    "# your code\n"
   ]
  },
  {
   "cell_type": "markdown",
   "metadata": {},
   "source": [
    "#### b) for -loop\n",
    "Calculate a sum of the integers 4,6,8,20,45, showing the subtotal after each addition (use a for-loop).\n",
    "Should look like this: \n",
    " \n",
    "```\n",
    "4\n",
    "10\n",
    "18\n",
    "38\n",
    "83\n",
    "```"
   ]
  },
  {
   "cell_type": "code",
   "execution_count": 6,
   "metadata": {},
   "outputs": [],
   "source": [
    "numbers= [4,6,8,20,45]\n",
    "# your code"
   ]
  },
  {
   "cell_type": "markdown",
   "metadata": {},
   "source": [
    "#### c) use a **range** in a loop\n",
    "make the programm print a multiplication table for 2\n",
    "\n",
    "Should look like this: \n",
    "```\n",
    "1 *2= 2\n",
    "2 *2= 4\n",
    "3 *2= 6\n",
    "4 *2= 8\n",
    "5 *2= 10\n",
    "6 *2= 12\n",
    "7 *2= 14\n",
    "8 *2= 16\n",
    "9 *2= 18 \n",
    "```"
   ]
  },
  {
   "cell_type": "code",
   "execution_count": 5,
   "metadata": {},
   "outputs": [],
   "source": [
    "i=1\n",
    "# your code"
   ]
  },
  {
   "cell_type": "markdown",
   "metadata": {},
   "source": [
    "#### 4. Visualisation  \n",
    "You have a list of values from 0 to 10 (int) and another list which elements are the squared integers from the first list. Define the lists generic (through the relation) if you can, otherwise use the lists below.\n",
    "\n",
    "Import a \"matplot\"- libriary and visualize the values in a graph. \n",
    "\n",
    "\n",
    "Should look like:\n",
    "```\n",
    "[0, 1, 2, 3, 4, 5, 6, 7, 8, 9]\n",
    "[0, 1, 4, 9, 16, 25, 36, 49, 64, 81]\n",
    "\n",
    "\n",
    "|\n",
    "|\n",
    "| \n",
    "|                        *\n",
    "|                      *\n",
    "|                   *\n",
    "|                *\n",
    "|            *\n",
    "|       *\n",
    "|_*__________________________\n",
    " \n",
    " ***the graph is an approximation and should be plotted automatically by the \"matplot\"- libriary***\n",
    " ```"
   ]
  },
  {
   "cell_type": "code",
   "execution_count": 7,
   "metadata": {},
   "outputs": [],
   "source": [
    "import matplotlib.pyplot as plt\n",
    "#your code\n",
    "\n",
    "# plt.show()"
   ]
  },
  {
   "cell_type": "markdown",
   "metadata": {},
   "source": [
    "#### 5.Disctionaries\n",
    "Define a dictionary with the following information:\n",
    "```\n",
    "Germany:Berlin\n",
    "Brasil:Brasilia\n",
    "France:Paris\n",
    "Russia:Moscow\n",
    "```\n",
    "Make the program print only the countries from the dictionary\n",
    "\n",
    "Should look like:\n",
    "```\n",
    "Germany\n",
    "Brasil\n",
    "France\n",
    "Russia\n",
    "```"
   ]
  },
  {
   "cell_type": "code",
   "execution_count": 11,
   "metadata": {},
   "outputs": [],
   "source": [
    "\n",
    "# your code"
   ]
  },
  {
   "cell_type": "code",
   "execution_count": null,
   "metadata": {},
   "outputs": [],
   "source": []
  }
 ],
 "metadata": {
  "kernelspec": {
   "display_name": "Python 3",
   "language": "python",
   "name": "python3"
  },
  "language_info": {
   "codemirror_mode": {
    "name": "ipython",
    "version": 3
   },
   "file_extension": ".py",
   "mimetype": "text/x-python",
   "name": "python",
   "nbconvert_exporter": "python",
   "pygments_lexer": "ipython3",
   "version": "3.8.5"
  }
 },
 "nbformat": 4,
 "nbformat_minor": 4
}
